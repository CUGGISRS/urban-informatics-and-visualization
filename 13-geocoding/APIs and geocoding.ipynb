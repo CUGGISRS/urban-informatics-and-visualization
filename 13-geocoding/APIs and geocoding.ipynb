{
 "cells": [
  {
   "cell_type": "markdown",
   "metadata": {},
   "source": [
    "# Review: Querying an API endpoint\n",
    "\n",
    "### Mapbox Geocoding API\n",
    "\n",
    "Services like Google Maps and Mapbox have various APIs that let you access its services through code instead of through GUI apps. This one from Mapbox lets you look up the latitude-longitude coordinates of street addresses.\n",
    "\n",
    "It works similarly to the earthquakes example, but with query parameters added to the URL endpoint!\n",
    "\n",
    "**API documentation:**  \n",
    "https://www.mapbox.com/api-documentation/#geocoding\n",
    "\n",
    "**API endpoint:**  \n",
    "https://api.mapbox.com/geocoding/v5/mapbox.places\n",
    "\n",
    "**API endpoint with query parameters:**  \n",
    "https://api.mapbox.com/geocoding/v5/mapbox.places/Wurster+Hall.json?access_token=pk.eyJ1IjoiY3AyNTVkZW1vIiwiYSI6ImRPcTlnTUEifQ.3C0d0Nk_rcwV-8JF29PU-w\n",
    "\n",
    "You can get your own access key by signing up for a Mapbox account, if you'd like. Here is a link for that (but don't do it now): https://www.mapbox.com/signin/?route-to=%22/account/access-tokens%22"
   ]
  },
  {
   "cell_type": "code",
   "execution_count": 1,
   "metadata": {},
   "outputs": [],
   "source": [
    "import json      # library for working with JSON-formatted text strings\n",
    "import requests  # library for accessing content from web URLs\n",
    "\n",
    "import pprint    # library for cleanly printing Python data structures\n",
    "pp = pprint.PrettyPrinter()"
   ]
  },
  {
   "cell_type": "code",
   "execution_count": 15,
   "metadata": {},
   "outputs": [
    {
     "name": "stdout",
     "output_type": "stream",
     "text": [
      "https://api.mapbox.com/geocoding/v5/mapbox.places/Wurster%20Hall.json?limit=1&access_token=pk.eyJ1IjoiY3AyNTVkZW1vIiwiYSI6ImRPcTlnTUEifQ.3C0d0Nk_rcwV-8JF29PU-w\n"
     ]
    }
   ],
   "source": [
    "# we have to encode the search query so that it can be passed as a URL, \n",
    "# with spaces and other special characters removed\n",
    "\n",
    "endpoint = 'https://api.mapbox.com/geocoding/v5/mapbox.places/'\n",
    "\n",
    "address = 'Wurster Hall'\n",
    "\n",
    "params = {'limit': 1,\n",
    "          'access_token': 'pk.eyJ1IjoiY3AyNTVkZW1vIiwiYSI6ImRPcTlnTUEifQ.3C0d0Nk_rcwV-8JF29PU-w'}\n",
    "\n",
    "url = requests.Request('GET', endpoint+address+'.json', params=params).prepare().url\n",
    "print(url)"
   ]
  },
  {
   "cell_type": "code",
   "execution_count": 16,
   "metadata": {},
   "outputs": [
    {
     "name": "stdout",
     "output_type": "stream",
     "text": [
      "{'type': 'FeatureCollection', 'query': ['wurster', 'hall'], 'features': [{'id': 'poi.1359351', 'type': 'Feature', 'place_type': ['poi'], 'relevance': 1, 'properties': {'tel': '(510) 642-0831', 'address': '230 Wurster Hall #1820', 'category': 'college, university', 'landmark': True, 'maki': 'college'}, 'text': 'Wurster Hall / College of Environmental Design', 'place_name': 'Wurster Hall / College of Environmental Design, 230 Wurster Hall #1820, Berkeley, California 94720, United States', 'center': [-122.25488, 37.87082], 'geometry': {'type': 'Point', 'coordinates': [-122.25488, 37.87082]}, 'context': [{'id': 'postcode.1038777018848930', 'text': '94720'}, {'id': 'place.4062647275990170', 'wikidata': 'Q484678', 'text': 'Berkeley'}, {'id': 'region.3591', 'short_code': 'US-CA', 'wikidata': 'Q99', 'text': 'California'}, {'id': 'country.3145', 'short_code': 'us', 'wikidata': 'Q30', 'text': 'United States'}]}], 'attribution': 'NOTICE: © 2018 Mapbox and its suppliers. All rights reserved. Use of this data is subject to the Mapbox Terms of Service (https://www.mapbox.com/about/maps/). This response and the information it contains may not be retained.'}\n"
     ]
    }
   ],
   "source": [
    "# download and parse the results\n",
    "\n",
    "response = requests.get(url)\n",
    "results = response.text\n",
    "data = json.loads(results)\n",
    "\n",
    "print(data)"
   ]
  },
  {
   "cell_type": "code",
   "execution_count": 17,
   "metadata": {},
   "outputs": [
    {
     "name": "stdout",
     "output_type": "stream",
     "text": [
      "{'attribution': 'NOTICE: © 2018 Mapbox and its suppliers. All rights reserved. '\n",
      "                'Use of this data is subject to the Mapbox Terms of Service '\n",
      "                '(https://www.mapbox.com/about/maps/). This response and the '\n",
      "                'information it contains may not be retained.',\n",
      " 'features': [{'center': [-122.25488, 37.87082],\n",
      "               'context': [{'id': 'postcode.1038777018848930', 'text': '94720'},\n",
      "                           {'id': 'place.4062647275990170',\n",
      "                            'text': 'Berkeley',\n",
      "                            'wikidata': 'Q484678'},\n",
      "                           {'id': 'region.3591',\n",
      "                            'short_code': 'US-CA',\n",
      "                            'text': 'California',\n",
      "                            'wikidata': 'Q99'},\n",
      "                           {'id': 'country.3145',\n",
      "                            'short_code': 'us',\n",
      "                            'text': 'United States',\n",
      "                            'wikidata': 'Q30'}],\n",
      "               'geometry': {'coordinates': [-122.25488, 37.87082],\n",
      "                            'type': 'Point'},\n",
      "               'id': 'poi.1359351',\n",
      "               'place_name': 'Wurster Hall / College of Environmental Design, '\n",
      "                             '230 Wurster Hall #1820, Berkeley, California '\n",
      "                             '94720, United States',\n",
      "               'place_type': ['poi'],\n",
      "               'properties': {'address': '230 Wurster Hall #1820',\n",
      "                              'category': 'college, university',\n",
      "                              'landmark': True,\n",
      "                              'maki': 'college',\n",
      "                              'tel': '(510) 642-0831'},\n",
      "               'relevance': 1,\n",
      "               'text': 'Wurster Hall / College of Environmental Design',\n",
      "               'type': 'Feature'}],\n",
      " 'query': ['wurster', 'hall'],\n",
      " 'type': 'FeatureCollection'}\n"
     ]
    }
   ],
   "source": [
    "# print it more nicely\n",
    "\n",
    "pp.pprint(data)"
   ]
  },
  {
   "cell_type": "code",
   "execution_count": 18,
   "metadata": {},
   "outputs": [
    {
     "name": "stdout",
     "output_type": "stream",
     "text": [
      "[-122.25488, 37.87082]\n"
     ]
    }
   ],
   "source": [
    "# pull out the lat-lon coordinates\n",
    "\n",
    "for r in data['features']:\n",
    "    coords = r['geometry']['coordinates']\n",
    "    print(coords)"
   ]
  },
  {
   "cell_type": "markdown",
   "metadata": {},
   "source": [
    "# Using Mapbox Python SDK for Geocoding\n",
    "\n",
    "So far the discussion of APIs has been based on just accessing the API endpoints, which could be done with anything that can access a properly specified url.  Even just your browser.\n",
    "\n",
    "Now we will look at APIs from a different perspective, one that is more Pythonic.  We will first need to install the Mapbox SDK."
   ]
  },
  {
   "cell_type": "code",
   "execution_count": 3,
   "metadata": {
    "scrolled": true
   },
   "outputs": [
    {
     "name": "stdout",
     "output_type": "stream",
     "text": [
      "Collecting mapbox\n",
      "  Downloading https://files.pythonhosted.org/packages/c8/bc/6cf7ed35c606ef257162b76e6a5fc01a0a4b6dfa92c4244015d1634bb337/mapbox-0.17.1-py2.py3-none-any.whl\n",
      "Requirement already satisfied: requests in /Users/Paul/anaconda3/lib/python3.6/site-packages (from mapbox) (2.18.4)\n",
      "Collecting uritemplate>=2.0 (from mapbox)\n",
      "  Downloading https://files.pythonhosted.org/packages/e5/7d/9d5a640c4f8bf2c8b1afc015e9a9d8de32e13c9016dcc4b0ec03481fb396/uritemplate-3.0.0-py2.py3-none-any.whl\n",
      "Collecting polyline>=1.3.1 (from mapbox)\n",
      "  Downloading https://files.pythonhosted.org/packages/c1/d0/58a19ca3fbe880145d200518fcd97d176cae07b9677db330f4881954d5f5/polyline-1.3.2-py2.py3-none-any.whl\n",
      "Requirement already satisfied: python-dateutil>=2.5.0 in /Users/Paul/anaconda3/lib/python3.6/site-packages (from mapbox) (2.6.1)\n",
      "Requirement already satisfied: boto3>=1.4 in /Users/Paul/anaconda3/lib/python3.6/site-packages (from mapbox) (1.4.7)\n",
      "Collecting iso3166 (from mapbox)\n",
      "  Downloading https://files.pythonhosted.org/packages/f2/f6/985e5b174786e93aff77ec055a4b7ba55ebc95a3f8b5880f845d7bbd253e/iso3166-0.9.tar.gz\n",
      "Collecting cachecontrol (from mapbox)\n",
      "  Downloading https://files.pythonhosted.org/packages/5e/f0/2c193ed1f17c97ae539da7e1c2d48b80d8cccb1917163b26a91ca4355aa6/CacheControl-0.12.5.tar.gz\n",
      "Requirement already satisfied: chardet<3.1.0,>=3.0.2 in /Users/Paul/anaconda3/lib/python3.6/site-packages (from requests->mapbox) (3.0.4)\n",
      "Requirement already satisfied: idna<2.7,>=2.5 in /Users/Paul/anaconda3/lib/python3.6/site-packages (from requests->mapbox) (2.6)\n",
      "Requirement already satisfied: urllib3<1.23,>=1.21.1 in /Users/Paul/anaconda3/lib/python3.6/site-packages (from requests->mapbox) (1.22)\n",
      "Requirement already satisfied: certifi>=2017.4.17 in /Users/Paul/anaconda3/lib/python3.6/site-packages (from requests->mapbox) (2018.4.16)\n",
      "Requirement already satisfied: six>=1.8.0 in /Users/Paul/anaconda3/lib/python3.6/site-packages (from polyline>=1.3.1->mapbox) (1.11.0)\n",
      "Collecting botocore<1.8.0,>=1.7.0 (from boto3>=1.4->mapbox)\n",
      "\u001b[?25l  Downloading https://files.pythonhosted.org/packages/78/07/88ef02fca320ff8f61a5c8f46739f72e715f8745c9ddbf59fc5dba43db1a/botocore-1.7.48-py2.py3-none-any.whl (3.7MB)\n",
      "\u001b[K    100% |████████████████████████████████| 3.7MB 4.6MB/s ta 0:00:011\n",
      "\u001b[?25hRequirement already satisfied: jmespath<1.0.0,>=0.7.1 in /Users/Paul/anaconda3/lib/python3.6/site-packages (from boto3>=1.4->mapbox) (0.9.3)\n",
      "Requirement already satisfied: s3transfer<0.2.0,>=0.1.10 in /Users/Paul/anaconda3/lib/python3.6/site-packages (from boto3>=1.4->mapbox) (0.1.11)\n",
      "Collecting msgpack (from cachecontrol->mapbox)\n",
      "\u001b[?25l  Downloading https://files.pythonhosted.org/packages/f3/b6/9affbea179c3c03a0eb53515d9ce404809a122f76bee8fc8c6ec9497f51f/msgpack-0.5.6.tar.gz (138kB)\n",
      "\u001b[K    100% |████████████████████████████████| 143kB 11.4MB/s ta 0:00:01\n",
      "\u001b[?25hRequirement already satisfied: docutils>=0.10 in /Users/Paul/anaconda3/lib/python3.6/site-packages (from botocore<1.8.0,>=1.7.0->boto3>=1.4->mapbox) (0.14)\n",
      "Building wheels for collected packages: iso3166, cachecontrol, msgpack\n",
      "  Running setup.py bdist_wheel for iso3166 ... \u001b[?25ldone\n",
      "\u001b[?25h  Stored in directory: /Users/Paul/Library/Caches/pip/wheels/05/75/28/62c7e94498ff866a39dbaec5db14fc5b3214a6506e69254a63\n",
      "  Running setup.py bdist_wheel for cachecontrol ... \u001b[?25ldone\n",
      "\u001b[?25h  Stored in directory: /Users/Paul/Library/Caches/pip/wheels/36/bd/5f/dbbee4f2d51f97ecd12a363f870361179cb1fd4bc1174ea08a\n",
      "  Running setup.py bdist_wheel for msgpack ... \u001b[?25ldone\n",
      "\u001b[?25h  Stored in directory: /Users/Paul/Library/Caches/pip/wheels/f0/02/4c/525b56fce78c415eb8066f6554f9de02792df26b8f882f6d65\n",
      "Successfully built iso3166 cachecontrol msgpack\n",
      "Installing collected packages: uritemplate, polyline, iso3166, msgpack, cachecontrol, mapbox, botocore\n",
      "  Found existing installation: botocore 1.5.92\n",
      "    Uninstalling botocore-1.5.92:\n",
      "      Successfully uninstalled botocore-1.5.92\n",
      "Successfully installed botocore-1.7.48 cachecontrol-0.12.5 iso3166-0.9 mapbox-0.17.1 msgpack-0.5.6 polyline-1.3.2 uritemplate-3.0.0\n",
      "\u001b[33mYou are using pip version 10.0.1, however version 18.1 is available.\n",
      "You should consider upgrading via the 'pip install --upgrade pip' command.\u001b[0m\n"
     ]
    }
   ],
   "source": [
    "#!pip install mapbox"
   ]
  },
  {
   "cell_type": "markdown",
   "metadata": {},
   "source": [
    "You will need to manage access tokens for Mapbox APIs (and for many others).  Read this for more information:\n",
    "\n",
    "https://github.com/mapbox/mapbox-sdk-py/blob/master/docs/access_tokens.md"
   ]
  },
  {
   "cell_type": "markdown",
   "metadata": {},
   "source": [
    "### Forward Geocoding\n",
    "\n",
    "Forward geocoding is the one we have looked at so far using an ALI endpoint.  Let's look at it again using the Mapbox Python SDK."
   ]
  },
  {
   "cell_type": "code",
   "execution_count": 14,
   "metadata": {},
   "outputs": [],
   "source": [
    "from mapbox import Geocoder\n",
    "import os"
   ]
  },
  {
   "cell_type": "code",
   "execution_count": 7,
   "metadata": {},
   "outputs": [],
   "source": [
    "os.environ['MAPBOX_ACCESS_TOKEN'] = \"pk.eyJ1IjoiY3AyNTVkZW1vIiwiYSI6ImRPcTlnTUEifQ.3C0d0Nk_rcwV-8JF29PU-w\""
   ]
  },
  {
   "cell_type": "code",
   "execution_count": 15,
   "metadata": {},
   "outputs": [
    {
     "data": {
      "text/plain": [
       "'pk.eyJ1IjoiY3AyNTVkZW1vIiwiYSI6ImRPcTlnTUEifQ.3C0d0Nk_rcwV-8JF29PU-w'"
      ]
     },
     "execution_count": 15,
     "metadata": {},
     "output_type": "execute_result"
    }
   ],
   "source": [
    "os.environ['MAPBOX_ACCESS_TOKEN']"
   ]
  },
  {
   "cell_type": "code",
   "execution_count": 16,
   "metadata": {},
   "outputs": [],
   "source": [
    "geocoder = Geocoder(access_token = os.environ['MAPBOX_ACCESS_TOKEN'])"
   ]
  },
  {
   "cell_type": "code",
   "execution_count": 17,
   "metadata": {},
   "outputs": [
    {
     "data": {
      "text/plain": [
       "True"
      ]
     },
     "execution_count": 17,
     "metadata": {},
     "output_type": "execute_result"
    }
   ],
   "source": [
    "geocoder.session.params['access_token'] == os.environ['MAPBOX_ACCESS_TOKEN']"
   ]
  },
  {
   "cell_type": "code",
   "execution_count": 24,
   "metadata": {},
   "outputs": [],
   "source": [
    "response = geocoder.forward('Wurster Hall, Berkeley, CA', limit=1)"
   ]
  },
  {
   "cell_type": "code",
   "execution_count": 25,
   "metadata": {},
   "outputs": [],
   "source": [
    "results = response.text"
   ]
  },
  {
   "cell_type": "code",
   "execution_count": 26,
   "metadata": {},
   "outputs": [
    {
     "name": "stdout",
     "output_type": "stream",
     "text": [
      "{'attribution': 'NOTICE: © 2018 Mapbox and its suppliers. All rights reserved. '\n",
      "                'Use of this data is subject to the Mapbox Terms of Service '\n",
      "                '(https://www.mapbox.com/about/maps/). This response and the '\n",
      "                'information it contains may not be retained. POI(s) provided '\n",
      "                'by Foursquare.',\n",
      " 'features': [{'bbox': [-71.614667973279,\n",
      "                        45.4559916754476,\n",
      "                        -71.3081929310576,\n",
      "                        45.6046983089612],\n",
      "               'center': [-71.5308, 45.5352],\n",
      "               'context': [{'id': 'region.3648',\n",
      "                            'short_code': 'CA-QC',\n",
      "                            'text': 'Quebec',\n",
      "                            'wikidata': 'Q176'},\n",
      "                           {'id': 'country.3179',\n",
      "                            'short_code': 'ca',\n",
      "                            'text': 'Canada',\n",
      "                            'wikidata': 'Q16'}],\n",
      "               'geometry': {'coordinates': [-71.5308, 45.5352],\n",
      "                            'type': 'Point'},\n",
      "               'id': 'place.8385644088661751',\n",
      "               'matching_place_name': 'Hall, Quebec, Canada',\n",
      "               'matching_text': 'Hall',\n",
      "               'place_name': 'Brookbury, Quebec, Canada',\n",
      "               'place_type': ['place'],\n",
      "               'properties': {},\n",
      "               'relevance': 0.5,\n",
      "               'text': 'Brookbury',\n",
      "               'type': 'Feature'}],\n",
      " 'query': ['wurster', 'hall', 'berkeley', 'ca'],\n",
      " 'type': 'FeatureCollection'}\n"
     ]
    }
   ],
   "source": [
    "data = json.loads(results)\n",
    "pp.pprint(data)"
   ]
  },
  {
   "cell_type": "code",
   "execution_count": 30,
   "metadata": {},
   "outputs": [
    {
     "name": "stdout",
     "output_type": "stream",
     "text": [
      "Washington, Virginia, United States\n",
      "[-78.159, 38.714]\n"
     ]
    }
   ],
   "source": [
    "response = geocoder.forward(\n",
    "    \"washington\", bbox=[-78.338320,38.520792,-77.935454,38.864909])\n",
    "first = response.geojson()['features'][0]\n",
    "print(first['place_name'])\n",
    "# 'Washington, Virginia, United States'\n",
    "print([round(coord, 3) for coord in first['geometry']['coordinates']])\n",
    "# [-78.16, 38.71]"
   ]
  },
  {
   "cell_type": "markdown",
   "metadata": {},
   "source": [
    "### Reverse Geocoding\n",
    "\n",
    "Reverse geocoding does what it sounds like. It takes coordinates and returns an address."
   ]
  },
  {
   "cell_type": "code",
   "execution_count": 55,
   "metadata": {},
   "outputs": [],
   "source": [
    "response = geocoder.reverse(lon=-78.159, lat=38.714)"
   ]
  },
  {
   "cell_type": "code",
   "execution_count": 56,
   "metadata": {},
   "outputs": [],
   "source": [
    "features = sorted(response.geojson()['features'], key=lambda x: x['place_name'])"
   ]
  },
  {
   "cell_type": "code",
   "execution_count": 33,
   "metadata": {},
   "outputs": [
    {
     "name": "stdout",
     "output_type": "stream",
     "text": [
      "456 Gay Street, Washington, Virginia 22747, United States: address.1788840445144522\n",
      "United States: country.3145\n",
      "Virginia, United States: region.228368\n",
      "Washington, Virginia 22747, United States: postcode.6313359897262800\n",
      "Washington, Virginia, United States: place.6320270976246050\n"
     ]
    }
   ],
   "source": [
    "for f in features:\n",
    "    print('{place_name}: {id}'.format(**f))"
   ]
  },
  {
   "cell_type": "code",
   "execution_count": 43,
   "metadata": {},
   "outputs": [],
   "source": [
    "response = geocoder.reverse(lon=-73.989, lat=40.733, limit=1, types=['country'])"
   ]
  },
  {
   "cell_type": "code",
   "execution_count": 42,
   "metadata": {},
   "outputs": [],
   "source": [
    "features = response.geojson()['features']"
   ]
  },
  {
   "cell_type": "code",
   "execution_count": 36,
   "metadata": {},
   "outputs": [
    {
     "name": "stdout",
     "output_type": "stream",
     "text": [
      "United States: country.3145\n"
     ]
    }
   ],
   "source": [
    "print('{place_name}: {id}'.format(**features[0]))"
   ]
  },
  {
   "cell_type": "code",
   "execution_count": 45,
   "metadata": {
    "scrolled": false
   },
   "outputs": [
    {
     "name": "stdout",
     "output_type": "stream",
     "text": [
      "Help on class Directions in module mapbox.services.directions:\n",
      "\n",
      "class Directions(mapbox.services.base.Service)\n",
      " |  Access to the Directions v5 API.\n",
      " |  \n",
      " |  Method resolution order:\n",
      " |      Directions\n",
      " |      mapbox.services.base.Service\n",
      " |      builtins.object\n",
      " |  \n",
      " |  Methods defined here:\n",
      " |  \n",
      " |  directions(self, features, profile='mapbox/driving', alternatives=None, geometries=None, overview=None, steps=None, continue_straight=None, waypoint_snapping=None, annotations=None, language=None, **kwargs)\n",
      " |      Request directions for waypoints encoded as GeoJSON features.\n",
      " |      \n",
      " |      Parameters\n",
      " |      ----------\n",
      " |      features : iterable\n",
      " |          An collection of GeoJSON features\n",
      " |      profile : str\n",
      " |          Name of a Mapbox profile such as 'mapbox.driving'\n",
      " |      alternatives : bool\n",
      " |          Whether to try to return alternative routes, default: False\n",
      " |      geometries : string\n",
      " |          Type of geometry returned (geojson, polyline, polyline6)\n",
      " |      overview : string or False\n",
      " |          Type of returned overview geometry: 'full', 'simplified',\n",
      " |          or False\n",
      " |      steps : bool\n",
      " |          Whether to return steps and turn-by-turn instructions,\n",
      " |          default: False\n",
      " |      continue_straight : bool\n",
      " |          Direction of travel when departing intermediate waypoints\n",
      " |      radiuses : iterable of numbers or 'unlimited'\n",
      " |          Must be same length as features\n",
      " |      waypoint_snapping : list\n",
      " |          Controls snapping of waypoints\n",
      " |      \n",
      " |          The list is zipped with the features collection and must\n",
      " |          have the same length. Elements of the list must be one of:\n",
      " |      \n",
      " |          - A number (interpretted as a snapping radius)\n",
      " |          - The string 'unlimited' (unlimited snapping radius)\n",
      " |          - A 3-element tuple consisting of (radius, angle, range)\n",
      " |          - None (no snapping parameters specified for that waypoint)\n",
      " |      annotations : str\n",
      " |          Whether or not to return additional metadata along the route\n",
      " |      \n",
      " |          Possible values are: 'duration', 'distance', 'speed', and\n",
      " |          'congestion'. Several annotations can be used by joining\n",
      " |          them with ','.\n",
      " |      language : str\n",
      " |          Language of returned turn-by-turn text instructions,\n",
      " |          default: 'en'\n",
      " |      \n",
      " |      Returns\n",
      " |      -------\n",
      " |      requests.Response\n",
      " |          The response object has a geojson() method for access to\n",
      " |          the route(s) as a GeoJSON-like FeatureCollection\n",
      " |          dictionary.\n",
      " |  \n",
      " |  ----------------------------------------------------------------------\n",
      " |  Data descriptors defined here:\n",
      " |  \n",
      " |  baseuri\n",
      " |      The service's base URI\n",
      " |      \n",
      " |      Returns\n",
      " |      -------\n",
      " |      str\n",
      " |  \n",
      " |  ----------------------------------------------------------------------\n",
      " |  Data and other attributes defined here:\n",
      " |  \n",
      " |  api_name = 'directions'\n",
      " |  \n",
      " |  api_version = 'v5'\n",
      " |  \n",
      " |  valid_annotations = ['duration', 'distance', 'speed']\n",
      " |  \n",
      " |  valid_geom_encoding = ['geojson', 'polyline', 'polyline6']\n",
      " |  \n",
      " |  valid_geom_overview = ['full', 'simplified', False]\n",
      " |  \n",
      " |  valid_profiles = ['mapbox/driving', 'mapbox/driving-traffic', 'mapbox/...\n",
      " |  \n",
      " |  ----------------------------------------------------------------------\n",
      " |  Methods inherited from mapbox.services.base.Service:\n",
      " |  \n",
      " |  __init__(self, access_token=None, host=None, cache=None)\n",
      " |      Constructs a Service object\n",
      " |      \n",
      " |      This method should be overridden by subclasses.\n",
      " |      \n",
      " |      Parameters\n",
      " |      ----------\n",
      " |      access_token : str\n",
      " |          Mapbox access token string.\n",
      " |      host : str, optional\n",
      " |          Mapbox API host (advanced usage only).\n",
      " |      cache : CacheControl cache instance (Dict or FileCache), optional\n",
      " |          Optional caching, not generally needed.\n",
      " |      \n",
      " |      Returns\n",
      " |      -------\n",
      " |      Service\n",
      " |  \n",
      " |  handle_http_error(self, response, custom_messages=None, raise_for_status=False)\n",
      " |      Converts service errors to Python exceptions\n",
      " |      \n",
      " |      Parameters\n",
      " |      ----------\n",
      " |      response : requests.Response\n",
      " |          A service response.\n",
      " |      custom_messages : dict, optional\n",
      " |          A mapping of custom exception messages to HTTP status codes.\n",
      " |      raise_for_status : bool, optional\n",
      " |          If True, the requests library provides Python exceptions.\n",
      " |      \n",
      " |      Returns\n",
      " |      -------\n",
      " |      None\n",
      " |  \n",
      " |  ----------------------------------------------------------------------\n",
      " |  Data descriptors inherited from mapbox.services.base.Service:\n",
      " |  \n",
      " |  __dict__\n",
      " |      dictionary for instance variables (if defined)\n",
      " |  \n",
      " |  __weakref__\n",
      " |      list of weak references to the object (if defined)\n",
      " |  \n",
      " |  username\n",
      " |      The username in the service's access token\n",
      " |      \n",
      " |      Returns\n",
      " |      -------\n",
      " |      str\n",
      " |  \n",
      " |  ----------------------------------------------------------------------\n",
      " |  Data and other attributes inherited from mapbox.services.base.Service:\n",
      " |  \n",
      " |  default_host = 'api.mapbox.com'\n",
      "\n"
     ]
    }
   ],
   "source": [
    "import mapbox\n",
    "help(mapbox.Directions)"
   ]
  },
  {
   "cell_type": "code",
   "execution_count": 47,
   "metadata": {},
   "outputs": [],
   "source": [
    "from mapbox import Directions"
   ]
  },
  {
   "cell_type": "code",
   "execution_count": 48,
   "metadata": {},
   "outputs": [],
   "source": [
    "service = Directions()"
   ]
  },
  {
   "cell_type": "code",
   "execution_count": 49,
   "metadata": {},
   "outputs": [],
   "source": [
    "origin = {\n",
    "        'type': 'Feature',\n",
    "        'properties': {'name': 'Portland, OR'},\n",
    "        'geometry': {\n",
    "        'type': 'Point',\n",
    "        'coordinates': [-122.7282, 45.5801]}}\n",
    "destination = {\n",
    "    'type': 'Feature',\n",
    "    'properties': {'name': 'Bend, OR'},\n",
    "    'geometry': {\n",
    "    'type': 'Point',\n",
    "    'coordinates': [-121.3153, 44.0582]}}"
   ]
  },
  {
   "cell_type": "code",
   "execution_count": 51,
   "metadata": {},
   "outputs": [],
   "source": [
    "response = service.directions([origin, destination],'mapbox/driving')"
   ]
  },
  {
   "cell_type": "code",
   "execution_count": 52,
   "metadata": {},
   "outputs": [],
   "source": [
    "driving_routes = response.geojson()"
   ]
  },
  {
   "cell_type": "code",
   "execution_count": 54,
   "metadata": {},
   "outputs": [
    {
     "data": {
      "text/plain": [
       "{'features': [{'geometry': {'coordinates': [(45.57994, -122.72832),\n",
       "     (45.56995, -122.69555),\n",
       "     (45.52473, -122.66403),\n",
       "     (45.53161, -122.56801),\n",
       "     (45.54728, -122.55336),\n",
       "     (45.53943, -122.41837),\n",
       "     (45.45508, -122.37623),\n",
       "     (45.3759, -122.2218),\n",
       "     (45.36648, -122.15453),\n",
       "     (45.37977, -122.04793),\n",
       "     (45.30527, -121.87119),\n",
       "     (45.3123, -121.79323),\n",
       "     (45.30066, -121.73499),\n",
       "     (45.15902, -121.66228),\n",
       "     (45.10711, -121.55876),\n",
       "     (45.05603, -121.51364),\n",
       "     (45.02217, -121.51322),\n",
       "     (44.86717, -121.42421),\n",
       "     (44.78583, -121.32094),\n",
       "     (44.76025, -121.22736),\n",
       "     (44.71869, -121.22773),\n",
       "     (44.72038, -121.17616),\n",
       "     (44.65345, -121.12858),\n",
       "     (44.45997, -121.19954),\n",
       "     (44.27523, -121.16913),\n",
       "     (44.05817, -121.31533)],\n",
       "    'type': 'LineString'},\n",
       "   'properties': {'distance': 269397.3, 'duration': 11626},\n",
       "   'type': 'Feature'}],\n",
       " 'type': 'FeatureCollection'}"
      ]
     },
     "execution_count": 54,
     "metadata": {},
     "output_type": "execute_result"
    }
   ],
   "source": [
    "driving_routes"
   ]
  },
  {
   "cell_type": "code",
   "execution_count": null,
   "metadata": {},
   "outputs": [],
   "source": []
  }
 ],
 "metadata": {
  "kernelspec": {
   "display_name": "Python 3",
   "language": "python",
   "name": "python3"
  },
  "language_info": {
   "codemirror_mode": {
    "name": "ipython",
    "version": 3
   },
   "file_extension": ".py",
   "mimetype": "text/x-python",
   "name": "python",
   "nbconvert_exporter": "python",
   "pygments_lexer": "ipython3",
   "version": "3.6.4"
  }
 },
 "nbformat": 4,
 "nbformat_minor": 2
}
