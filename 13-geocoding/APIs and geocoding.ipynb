{
 "cells": [
  {
   "cell_type": "markdown",
   "metadata": {},
   "source": [
    "# Review: Querying an API endpoint\n",
    "\n",
    "### Mapbox Geocoding API\n",
    "\n",
    "Services like Google Maps and Mapbox have various APIs that let you access its services through code instead of through GUI apps. This one from Mapbox lets you look up the latitude-longitude coordinates of street addresses.\n",
    "\n",
    "It works similarly to the earthquakes example, but with query parameters added to the URL endpoint!\n",
    "\n",
    "**API documentation:**  \n",
    "https://www.mapbox.com/api-documentation/#geocoding\n",
    "\n",
    "**API endpoint:**  \n",
    "https://api.mapbox.com/geocoding/v5/mapbox.places\n",
    "\n",
    "**API endpoint with query parameters:**  \n",
    "https://api.mapbox.com/geocoding/v5/mapbox.places/Wurster+Hall.json?access_token=pk.eyJ1IjoiY3AyNTVkZW1vIiwiYSI6ImRPcTlnTUEifQ.3C0d0Nk_rcwV-8JF29PU-w\n",
    "\n",
    "You can get your own access key by signing up for a Mapbox account, if you'd like. Here is a link for that (but don't do it now): https://www.mapbox.com/signin/?route-to=%22/account/access-tokens%22"
   ]
  },
  {
   "cell_type": "code",
   "execution_count": 8,
   "metadata": {},
   "outputs": [],
   "source": [
    "import json      # library for working with JSON-formatted text strings\n",
    "import requests  # library for accessing content from web URLs\n",
    "\n",
    "import pprint    # library for cleanly printing Python data structures\n",
    "pp = pprint.PrettyPrinter()"
   ]
  },
  {
   "cell_type": "code",
   "execution_count": 15,
   "metadata": {},
   "outputs": [
    {
     "name": "stdout",
     "output_type": "stream",
     "text": [
      "https://api.mapbox.com/geocoding/v5/mapbox.places/Wurster%20Hall.json?limit=1&access_token=pk.eyJ1IjoiY3AyNTVkZW1vIiwiYSI6ImRPcTlnTUEifQ.3C0d0Nk_rcwV-8JF29PU-w\n"
     ]
    }
   ],
   "source": [
    "# we have to encode the search query so that it can be passed as a URL, \n",
    "# with spaces and other special characters removed\n",
    "\n",
    "endpoint = 'https://api.mapbox.com/geocoding/v5/mapbox.places/'\n",
    "\n",
    "address = 'Wurster Hall'\n",
    "\n",
    "params = {'limit': 1,\n",
    "          'access_token': 'pk.eyJ1IjoiY3AyNTVkZW1vIiwiYSI6ImRPcTlnTUEifQ.3C0d0Nk_rcwV-8JF29PU-w'}\n",
    "\n",
    "url = requests.Request('GET', endpoint+address+'.json', params=params).prepare().url\n",
    "print(url)"
   ]
  },
  {
   "cell_type": "code",
   "execution_count": 16,
   "metadata": {},
   "outputs": [
    {
     "name": "stdout",
     "output_type": "stream",
     "text": [
      "{'type': 'FeatureCollection', 'query': ['wurster', 'hall'], 'features': [{'id': 'poi.1359351', 'type': 'Feature', 'place_type': ['poi'], 'relevance': 1, 'properties': {'tel': '(510) 642-0831', 'address': '230 Wurster Hall #1820', 'category': 'college, university', 'landmark': True, 'maki': 'college'}, 'text': 'Wurster Hall / College of Environmental Design', 'place_name': 'Wurster Hall / College of Environmental Design, 230 Wurster Hall #1820, Berkeley, California 94720, United States', 'center': [-122.25488, 37.87082], 'geometry': {'type': 'Point', 'coordinates': [-122.25488, 37.87082]}, 'context': [{'id': 'postcode.1038777018848930', 'text': '94720'}, {'id': 'place.4062647275990170', 'wikidata': 'Q484678', 'text': 'Berkeley'}, {'id': 'region.3591', 'short_code': 'US-CA', 'wikidata': 'Q99', 'text': 'California'}, {'id': 'country.3145', 'short_code': 'us', 'wikidata': 'Q30', 'text': 'United States'}]}], 'attribution': 'NOTICE: © 2018 Mapbox and its suppliers. All rights reserved. Use of this data is subject to the Mapbox Terms of Service (https://www.mapbox.com/about/maps/). This response and the information it contains may not be retained.'}\n"
     ]
    }
   ],
   "source": [
    "# download and parse the results\n",
    "\n",
    "response = requests.get(url)\n",
    "results = response.text\n",
    "data = json.loads(results)\n",
    "\n",
    "print(data)"
   ]
  },
  {
   "cell_type": "code",
   "execution_count": 17,
   "metadata": {},
   "outputs": [
    {
     "name": "stdout",
     "output_type": "stream",
     "text": [
      "{'attribution': 'NOTICE: © 2018 Mapbox and its suppliers. All rights reserved. '\n",
      "                'Use of this data is subject to the Mapbox Terms of Service '\n",
      "                '(https://www.mapbox.com/about/maps/). This response and the '\n",
      "                'information it contains may not be retained.',\n",
      " 'features': [{'center': [-122.25488, 37.87082],\n",
      "               'context': [{'id': 'postcode.1038777018848930', 'text': '94720'},\n",
      "                           {'id': 'place.4062647275990170',\n",
      "                            'text': 'Berkeley',\n",
      "                            'wikidata': 'Q484678'},\n",
      "                           {'id': 'region.3591',\n",
      "                            'short_code': 'US-CA',\n",
      "                            'text': 'California',\n",
      "                            'wikidata': 'Q99'},\n",
      "                           {'id': 'country.3145',\n",
      "                            'short_code': 'us',\n",
      "                            'text': 'United States',\n",
      "                            'wikidata': 'Q30'}],\n",
      "               'geometry': {'coordinates': [-122.25488, 37.87082],\n",
      "                            'type': 'Point'},\n",
      "               'id': 'poi.1359351',\n",
      "               'place_name': 'Wurster Hall / College of Environmental Design, '\n",
      "                             '230 Wurster Hall #1820, Berkeley, California '\n",
      "                             '94720, United States',\n",
      "               'place_type': ['poi'],\n",
      "               'properties': {'address': '230 Wurster Hall #1820',\n",
      "                              'category': 'college, university',\n",
      "                              'landmark': True,\n",
      "                              'maki': 'college',\n",
      "                              'tel': '(510) 642-0831'},\n",
      "               'relevance': 1,\n",
      "               'text': 'Wurster Hall / College of Environmental Design',\n",
      "               'type': 'Feature'}],\n",
      " 'query': ['wurster', 'hall'],\n",
      " 'type': 'FeatureCollection'}\n"
     ]
    }
   ],
   "source": [
    "# print it more nicely\n",
    "\n",
    "pp.pprint(data)"
   ]
  },
  {
   "cell_type": "code",
   "execution_count": 18,
   "metadata": {},
   "outputs": [
    {
     "name": "stdout",
     "output_type": "stream",
     "text": [
      "[-122.25488, 37.87082]\n"
     ]
    }
   ],
   "source": [
    "# pull out the lat-lon coordinates\n",
    "\n",
    "for r in data['features']:\n",
    "    coords = r['geometry']['coordinates']\n",
    "    print(coords)"
   ]
  },
  {
   "cell_type": "markdown",
   "metadata": {},
   "source": [
    "# Using Mapbox Python SDK for Geocoding\n",
    "\n",
    "So far the discussion of APIs has been based on just accessing the API endpoints, which could be done with anything that can access a properly specified url.  Even just your browser.\n",
    "\n",
    "Now we will look at APIs from a different perspective, one that is more Pythonic.  We will first need to install the Mapbox SDK."
   ]
  },
  {
   "cell_type": "code",
   "execution_count": 12,
   "metadata": {
    "scrolled": true
   },
   "outputs": [],
   "source": [
    "#!pip install mapbox"
   ]
  },
  {
   "cell_type": "markdown",
   "metadata": {},
   "source": [
    "You will need to manage access tokens for Mapbox APIs (and for many others).  Read this for more information:\n",
    "\n",
    "https://github.com/mapbox/mapbox-sdk-py/blob/master/docs/access_tokens.md"
   ]
  },
  {
   "cell_type": "code",
   "execution_count": 2,
   "metadata": {},
   "outputs": [],
   "source": [
    "from mapbox import Geocoder"
   ]
  },
  {
   "cell_type": "code",
   "execution_count": 3,
   "metadata": {},
   "outputs": [],
   "source": [
    "geocoder = Geocoder()"
   ]
  },
  {
   "cell_type": "code",
   "execution_count": 4,
   "metadata": {},
   "outputs": [],
   "source": [
    "response = geocoder.forward('Chester, NJ')"
   ]
  },
  {
   "cell_type": "code",
   "execution_count": 10,
   "metadata": {},
   "outputs": [],
   "source": [
    "results = response.text"
   ]
  },
  {
   "cell_type": "code",
   "execution_count": 11,
   "metadata": {},
   "outputs": [
    {
     "name": "stdout",
     "output_type": "stream",
     "text": [
      "{'message': 'Not Authorized - No Token'}\n"
     ]
    }
   ],
   "source": [
    "data = json.loads(results)\n",
    "pp.pprint(data)"
   ]
  },
  {
   "cell_type": "code",
   "execution_count": null,
   "metadata": {},
   "outputs": [],
   "source": []
  }
 ],
 "metadata": {
  "kernelspec": {
   "display_name": "Python 3",
   "language": "python",
   "name": "python3"
  },
  "language_info": {
   "codemirror_mode": {
    "name": "ipython",
    "version": 3
   },
   "file_extension": ".py",
   "mimetype": "text/x-python",
   "name": "python",
   "nbconvert_exporter": "python",
   "pygments_lexer": "ipython3",
   "version": "3.6.5"
  }
 },
 "nbformat": 4,
 "nbformat_minor": 2
}
